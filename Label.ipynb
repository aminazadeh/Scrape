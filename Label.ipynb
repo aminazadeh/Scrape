{
 "cells": [
  {
   "cell_type": "code",
   "execution_count": 2,
   "id": "fa952083",
   "metadata": {},
   "outputs": [],
   "source": [
    "import cv2\n",
    "import uuid\n",
    "import os\n",
    "from os import listdir"
   ]
  },
  {
   "cell_type": "code",
   "execution_count": 3,
   "id": "859ba62f",
   "metadata": {},
   "outputs": [],
   "source": [
    "labels = ['Good', 'Bad']"
   ]
  },
  {
   "cell_type": "code",
   "execution_count": 4,
   "id": "6c220493",
   "metadata": {},
   "outputs": [],
   "source": [
    "IMAGE_PATH = os.path.join('C:','Users','mehdi', 'Desktop','Scrape', 'Image', 'Isfahan')\n",
    "LABEL = os.path.join('C:','Users','mehdi', 'Desktop','Scrape', 'Labeled')"
   ]
  },
  {
   "cell_type": "code",
   "execution_count": 11,
   "id": "694dd947",
   "metadata": {},
   "outputs": [
    {
     "name": "stdout",
     "output_type": "stream",
     "text": [
      "^C\n"
     ]
    }
   ],
   "source": [
    "!pip install --upgrade pyqt5 lxml"
   ]
  },
  {
   "cell_type": "code",
   "execution_count": 14,
   "id": "94faa955",
   "metadata": {},
   "outputs": [],
   "source": [
    "if os.name == 'posix':\n",
    "    !make qt5py3\n",
    "if os.name == 'nt':\n",
    "    !cd {LABEL} && pyrcc5 -o libs/resources.py resources.qrc"
   ]
  },
  {
   "cell_type": "code",
   "execution_count": 23,
   "id": "1602b57d",
   "metadata": {},
   "outputs": [
    {
     "name": "stdout",
     "output_type": "stream",
     "text": [
      "Image:C:\\Users\\mehdi\\Desktop\\Scrape\\Image\\Isfahan\\test\\pic182.jpg -> Annotation:C:/Users/mehdi/Desktop/Scrape/Image/Isfahan/test\\pic182.xml\n"
     ]
    }
   ],
   "source": [
    "!cd {LABEL} && python labelImg.py"
   ]
  },
  {
   "cell_type": "code",
   "execution_count": null,
   "id": "67262a8d",
   "metadata": {},
   "outputs": [],
   "source": []
  }
 ],
 "metadata": {
  "kernelspec": {
   "display_name": "Python 3",
   "language": "python",
   "name": "python3"
  },
  "language_info": {
   "codemirror_mode": {
    "name": "ipython",
    "version": 3
   },
   "file_extension": ".py",
   "mimetype": "text/x-python",
   "name": "python",
   "nbconvert_exporter": "python",
   "pygments_lexer": "ipython3",
   "version": "3.8.8"
  }
 },
 "nbformat": 4,
 "nbformat_minor": 5
}
